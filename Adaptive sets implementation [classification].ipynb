{
 "cells": [
  {
   "cell_type": "code",
   "execution_count": 259,
   "id": "fa597787",
   "metadata": {},
   "outputs": [],
   "source": [
    "import numpy as np\n",
    "import pandas as pd \n",
    "import matplotlib.pyplot as plt\n",
    "from sklearn.svm import SVC\n",
    "from sklearn.datasets import make_classification"
   ]
  },
  {
   "cell_type": "markdown",
   "id": "eb16a970",
   "metadata": {},
   "source": [
    "#### Creating syntetic dataset\n",
    "It has 6000 samples, 20 features and 10 classes."
   ]
  },
  {
   "cell_type": "code",
   "execution_count": 418,
   "id": "87fc88b7",
   "metadata": {},
   "outputs": [],
   "source": [
    "data,target = make_classification(\n",
    "    n_samples=6000,\n",
    "    n_features=20,\n",
    "    n_informative=10,\n",
    "    n_redundant=2,\n",
    "    n_repeated=0,\n",
    "    n_classes=10,\n",
    "    n_clusters_per_class=10,\n",
    "    weights=None,\n",
    "    flip_y=0.01,\n",
    "    class_sep=1.0,\n",
    "    hypercube=True,\n",
    "    shift=0.0,\n",
    "    scale=1.0,\n",
    "    shuffle=True,\n",
    "    random_state=None,\n",
    ")"
   ]
  },
  {
   "cell_type": "markdown",
   "id": "72e6f744",
   "metadata": {},
   "source": [
    "#### Splitting the dataset into training, calibration and validation sets."
   ]
  },
  {
   "cell_type": "code",
   "execution_count": 419,
   "id": "0de0c5c0",
   "metadata": {},
   "outputs": [
    {
     "name": "stdout",
     "output_type": "stream",
     "text": [
      "Size of train set:3600\n",
      "Size of calib set:1200\n",
      "Size of validation set:1200\n",
      "\n"
     ]
    }
   ],
   "source": [
    "idx = np.random.permutation(target.size)\n",
    "idx_train = idx[:round(idx.size*0.6)]\n",
    "idx_calib = idx[round(idx.size*0.6):round(idx.size*0.8)]\n",
    "idx_valid = idx[round(idx.size*0.8):]\n",
    "\n",
    "print(f\"Size of train set:{idx_train.size}\\nSize of calib set:{idx_calib.size}\\nSize of validation set:{idx_valid.size}\\n\")"
   ]
  },
  {
   "cell_type": "markdown",
   "id": "5b40ac03",
   "metadata": {},
   "source": [
    "#### Fitting the model with train data"
   ]
  },
  {
   "cell_type": "code",
   "execution_count": 420,
   "id": "9960a5ad",
   "metadata": {},
   "outputs": [
    {
     "data": {
      "text/plain": [
       "SVC(probability=True)"
      ]
     },
     "execution_count": 420,
     "metadata": {},
     "output_type": "execute_result"
    }
   ],
   "source": [
    "model = SVC(probability=True)\n",
    "model.fit(data[idx_train,:],target[idx_train])"
   ]
  },
  {
   "cell_type": "markdown",
   "id": "7a997e09",
   "metadata": {},
   "source": [
    "#### In the cell below we're creating softmax output for calibration set then sorting it in descending order and creating an array *cal_srt* with sorted values. An array *cal_pi* contains sorted indexes."
   ]
  },
  {
   "cell_type": "code",
   "execution_count": 514,
   "id": "ad816d69",
   "metadata": {},
   "outputs": [],
   "source": [
    "softmax_calib = model.predict_proba(data[idx_calib, :])\n",
    "cal_pi = softmax_calib.argsort(1)[:,::-1] \n",
    "#sorts each row in descending order and returns array with indexes\n",
    "cal_srt = np.take_along_axis(softmax_calib, cal_pi, axis = 1)\n",
    "#returns sorted values for cal_pi indexes"
   ]
  },
  {
   "cell_type": "markdown",
   "id": "256422ef",
   "metadata": {},
   "source": [
    "#### Creating calibration scores "
   ]
  },
  {
   "cell_type": "code",
   "execution_count": 434,
   "id": "64a09a87",
   "metadata": {},
   "outputs": [],
   "source": [
    "n = target[idx_calib].size\n",
    "cal_scores = np.take_along_axis(cal_srt,cal_pi.argsort(axis=1),axis=1)[range(n),target[idx_calib]]"
   ]
  },
  {
   "cell_type": "code",
   "execution_count": 499,
   "id": "a61cbd9b",
   "metadata": {},
   "outputs": [
    {
     "name": "stdout",
     "output_type": "stream",
     "text": [
      "Qhat:0.39741506279818667, border:0.9508333333333333, significance level:95.0%\n"
     ]
    }
   ],
   "source": [
    "alpha = 0.05\n",
    "qhat = np.quantile(cal_scores, np.ceil((n+1)*(1-alpha))/n, interpolation='higher')\n",
    "print(f\"Qhat:{qhat}, border:{np.ceil((n+1)*(1-alpha))/n}, significance level:{(1-alpha)*100}%\")"
   ]
  },
  {
   "cell_type": "markdown",
   "id": "54d8811f",
   "metadata": {},
   "source": [
    "#### As the final step we create adaptive prediction sets. But the cherry on the cake is to use validation set,computed as cumulative, and beforehand sorted, sum of classes."
   ]
  },
  {
   "cell_type": "code",
   "execution_count": 503,
   "id": "d197340a",
   "metadata": {},
   "outputs": [],
   "source": [
    "softmax_val = model.predict_proba(data[idx_valid, :])\n",
    "\n",
    "val_pi = softmax_val.argsort(1)[:,::-1]\n",
    "val_srt = np.take_along_axis(softmax_val,val_pi,axis=1).cumsum(axis=1)\n",
    "prediction_sets = np.take_along_axis(val_srt <= qhat,val_pi.argsort(axis=1),axis=1)\n",
    "prediction_sets_num = np.take_along_axis(val_srt,val_pi.argsort(axis=1),axis=1)"
   ]
  },
  {
   "cell_type": "code",
   "execution_count": 537,
   "id": "1593fac7",
   "metadata": {},
   "outputs": [
    {
     "data": {
      "text/plain": [
       "Text(0.5, 1.0, 'That bar, which exceeds qhat line is not included to the prediction set')"
      ]
     },
     "execution_count": 537,
     "metadata": {},
     "output_type": "execute_result"
    },
    {
     "data": {
      "image/png": "[encoded data removed]",
      "text/plain": [
       "<Figure size 432x288 with 1 Axes>"
      ]
     },
     "metadata": {
      "needs_background": "light"
     },
     "output_type": "display_data"
    }
   ],
   "source": [
    "plt.bar(np.arange(10), val_srt[1], width=1/2, edgecolor=\"black\", linewidth=0.4)\n",
    "plt.axhline(y=qhat, color='r', linestyle='-')\n",
    "plt.ylabel('Cumulative value')\n",
    "plt.xlabel('Class')\n",
    "plt.legend(['qhat'])\n",
    "plt.title('That bar, which exceeds qhat line is not included to the prediction set')"
   ]
  },
  {
   "cell_type": "markdown",
   "id": "125f4a87",
   "metadata": {},
   "source": [
    "#### *all credits to https://arxiv.org/pdf/2107.07511v5.pdf paper, by Anastasios N. Angelopoulos and Stephen Bates* "
   ]
  }
 ],
 "metadata": {
  "kernelspec": {
   "display_name": "Python 3 (ipykernel)",
   "language": "python",
   "name": "python3"
  },
  "language_info": {
   "codemirror_mode": {
    "name": "ipython",
    "version": 3
   },
   "file_extension": ".py",
   "mimetype": "text/x-python",
   "name": "python",
   "nbconvert_exporter": "python",
   "pygments_lexer": "ipython3",
   "version": "3.9.12"
  }
 },
 "nbformat": 4,
 "nbformat_minor": 5
}
