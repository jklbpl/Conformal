{
  "nbformat": 4,
  "nbformat_minor": 0,
  "metadata": {
    "colab": {
      "name": "regression_nonconf_abserror.py",
      "provenance": [],
      "collapsed_sections": [],
      "authorship_tag": "ABX9TyPjz4XBHTvdtfgzMy5azATc",
      "include_colab_link": true
    },
    "kernelspec": {
      "name": "python3",
      "display_name": "Python 3"
    },
    "language_info": {
      "name": "python"
    }
  },
  "cells": [
    {
      "cell_type": "markdown",
      "metadata": {
        "id": "view-in-github",
        "colab_type": "text"
      },
      "source": [
        "<a href=\"https://colab.research.google.com/github/jklbpl/Conformal/blob/main/regression_nonconf_abserror_py.ipynb\" target=\"_parent\"><img src=\"https://colab.research.google.com/assets/colab-badge.svg\" alt=\"Open In Colab\"/></a>"
      ]
    },
    {
      "cell_type": "markdown",
      "source": [
        "Regression example"
      ],
      "metadata": {
        "id": "degEcOWC3ev4"
      }
    },
    {
      "cell_type": "markdown",
      "source": [
        "## Non-conformal predictor. Regression example."
      ],
      "metadata": {
        "id": "nFC3vnLKUcx9"
      }
    },
    {
      "cell_type": "code",
      "source": [
        "!pip install nonconformist"
      ],
      "metadata": {
        "colab": {
          "base_uri": "https://localhost:8080/"
        },
        "id": "xrGpbV3RahHH",
        "outputId": "2be719be-0dd6-426b-a040-3cbd18635147"
      },
      "execution_count": 18,
      "outputs": [
        {
          "output_type": "stream",
          "name": "stdout",
          "text": [
            "Looking in indexes: https://pypi.org/simple, https://us-python.pkg.dev/colab-wheels/public/simple/\n",
            "Requirement already satisfied: nonconformist in /usr/local/lib/python3.7/dist-packages (2.1.0)\n",
            "Requirement already satisfied: scikit-learn in /usr/local/lib/python3.7/dist-packages (from nonconformist) (1.0.2)\n",
            "Requirement already satisfied: scipy in /usr/local/lib/python3.7/dist-packages (from nonconformist) (1.7.3)\n",
            "Requirement already satisfied: numpy in /usr/local/lib/python3.7/dist-packages (from nonconformist) (1.21.6)\n",
            "Requirement already satisfied: pandas in /usr/local/lib/python3.7/dist-packages (from nonconformist) (1.3.5)\n",
            "Requirement already satisfied: pytz>=2017.3 in /usr/local/lib/python3.7/dist-packages (from pandas->nonconformist) (2022.1)\n",
            "Requirement already satisfied: python-dateutil>=2.7.3 in /usr/local/lib/python3.7/dist-packages (from pandas->nonconformist) (2.8.2)\n",
            "Requirement already satisfied: six>=1.5 in /usr/local/lib/python3.7/dist-packages (from python-dateutil>=2.7.3->pandas->nonconformist) (1.15.0)\n",
            "Requirement already satisfied: joblib>=0.11 in /usr/local/lib/python3.7/dist-packages (from scikit-learn->nonconformist) (1.1.0)\n",
            "Requirement already satisfied: threadpoolctl>=2.0.0 in /usr/local/lib/python3.7/dist-packages (from scikit-learn->nonconformist) (3.1.0)\n"
          ]
        }
      ]
    },
    {
      "cell_type": "code",
      "source": [
        "from sklearn.ensemble import RandomForestRegressor\n",
        "from nonconformist.cp import IcpRegressor\n",
        "from nonconformist.nc import NcFactory"
      ],
      "metadata": {
        "id": "CKYyg8ULU9kR"
      },
      "execution_count": 19,
      "outputs": []
    },
    {
      "cell_type": "code",
      "source": [
        "from nonconformist.nc import SignErrorErrFunc\n",
        "from nonconformist.nc import AbsErrorErrFunc"
      ],
      "metadata": {
        "id": "EUGa9BtP3UPq"
      },
      "execution_count": 20,
      "outputs": []
    },
    {
      "cell_type": "code",
      "source": [
        "import numpy as np\n",
        "import pandas as pd\n",
        "from sklearn.datasets import fetch_california_housing\n",
        "from sklearn.datasets import load_diabetes"
      ],
      "metadata": {
        "id": "rbOTHyjTUdIZ"
      },
      "execution_count": 21,
      "outputs": []
    },
    {
      "cell_type": "code",
      "source": [
        "#data_data, data_target = fetch_california_housing(return_X_y= True)\n",
        "data_data, data_target = load_diabetes(return_X_y= True)\n",
        "df_features = pd.DataFrame(data_data)\n",
        "df_target = pd.DataFrame(data_target)\n",
        "idx_size = df_target.size\n",
        "\n",
        "np.random.seed(2)\n",
        "\n",
        "idx = np.random.permutation(len(data_data))\n",
        "\n",
        "# test = 10%, test(test+calib) = 90% (80%+20%)\n",
        "test_size = int(idx_size  * 0.1)\n",
        "train_size = idx_size  - test_size\n",
        "calib_size = int(train_size * 0.2)\n",
        "train_size = train_size - calib_size\n",
        "\n",
        "idx_train, idx_cal, idx_test = idx[:train_size], idx[train_size:train_size + calib_size], idx[train_size + calib_size:]\n",
        "\n",
        "\n",
        "print('Test size: {}'.format(test_size))\n",
        "print('Calibration size: {}'.format(calib_size))\n",
        "print('Train size: {}'.format(train_size))\n"
      ],
      "metadata": {
        "colab": {
          "base_uri": "https://localhost:8080/"
        },
        "id": "bojQKKxBN3Uc",
        "outputId": "5657836d-2045-4372-aea0-ec44c9a88430"
      },
      "execution_count": 22,
      "outputs": [
        {
          "output_type": "stream",
          "name": "stdout",
          "text": [
            "Test size: 44\n",
            "Calibration size: 79\n",
            "Train size: 319\n"
          ]
        }
      ]
    },
    {
      "cell_type": "code",
      "source": [
        "model = RandomForestRegressor()\t# Create the underlying model\n",
        "nc = NcFactory.create_nc(model,err_func = AbsErrorErrFunc())\t# Create a default nonconformity function\n",
        "icp = IcpRegressor(nc)\t\t\t# Create an inductive conformal regressor\n",
        "\n",
        "# Fit the ICP using the proper training set\n",
        "icp.fit(data_data[idx_train, :], data_target[idx_train])\n",
        "\n",
        "# Calibrate the ICP using the calibration set\n",
        "icp.calibrate(data_data[idx_cal, :], data_target[idx_cal])\n",
        "\n",
        "# Produce predictions for the test set, with confidence 95%\n",
        "prediction = icp.predict(data_data[idx_test, :], significance=0.05)\n",
        "\n",
        "# Print the first 5 predictions\n",
        "print(prediction[:5, :])"
      ],
      "metadata": {
        "colab": {
          "base_uri": "https://localhost:8080/"
        },
        "id": "1kk1-oWEaIOd",
        "outputId": "1c345b2c-290c-4db7-9e50-2a9620dfb502"
      },
      "execution_count": 23,
      "outputs": [
        {
          "output_type": "stream",
          "name": "stdout",
          "text": [
            "[[ 41.73 248.13]\n",
            " [  8.65 215.05]\n",
            " [ 81.13 287.53]\n",
            " [-32.73 173.67]\n",
            " [100.35 306.75]]\n"
          ]
        }
      ]
    },
    {
      "cell_type": "code",
      "source": [
        "predictions_cal = model.predict(data_data[idx_cal,:])\n",
        "predictions_test = model.predict(data_data[idx_test,:])"
      ],
      "metadata": {
        "id": "UX-1KpPiay4n"
      },
      "execution_count": 24,
      "outputs": []
    },
    {
      "cell_type": "code",
      "source": [
        "#abs error func\n",
        "def abserror(prediction_set, y):\n",
        "  return np.abs(prediction_set - y)"
      ],
      "metadata": {
        "id": "_vJfitG-iNm9"
      },
      "execution_count": 25,
      "outputs": []
    },
    {
      "cell_type": "code",
      "source": [
        "#apply inverse abs err, or err_distance\n",
        "def abs_err_inv(cal_score, significance, sign_is_nondef):\n",
        "  if sign_is_nondef is False:\n",
        "    cal_scores_sorted =  np.sort(cal_score)[::-1]\n",
        "    quantile_significance = np.quantile(cal_scores_sorted, 1-significance) \n",
        "    cal_scores_sorted_bool = cal_scores_sorted >= quantile_significance\n",
        "    for i in range(len(cal_scores_sorted)):\n",
        "      if cal_scores_sorted_bool[i]:\n",
        "        number = i\n",
        "    return cal_scores_sorted[number]\n",
        "\n",
        "  if sign_is_nondef is True:\n",
        "    nc = np.sort(cal_score)[::-1]\n",
        "    border = int(np.floor(significance * (nc.size + 1))) - 1\n",
        "    border = min(max(border, 0), nc.size - 1)\n",
        "    return np.vstack([nc[border], nc[border]])\n",
        "  "
      ],
      "metadata": {
        "id": "oi2sO7feUgDY"
      },
      "execution_count": 26,
      "outputs": []
    },
    {
      "cell_type": "code",
      "source": [
        "cal_scores = abserror(predictions_cal, data_target[idx_cal])"
      ],
      "metadata": {
        "id": "h6KQoXIN7cnr"
      },
      "execution_count": 27,
      "outputs": []
    },
    {
      "cell_type": "code",
      "source": [
        "border = abs_err_inv(cal_scores, 0.05,sign_is_nondef = False)\n",
        "intervals = np.zeros((idx_test.size, 2))\n",
        "intervals[:, 0] = predictions_test - border\n",
        "intervals[:, 1] = predictions_test + border\n",
        "print(np.sum(intervals != prediction))"
      ],
      "metadata": {
        "colab": {
          "base_uri": "https://localhost:8080/"
        },
        "id": "o7xrsuF-XTz6",
        "outputId": "d1e34cca-6cde-4d6b-c442-225f97a758a7"
      },
      "execution_count": 29,
      "outputs": [
        {
          "output_type": "stream",
          "name": "stdout",
          "text": [
            "0\n"
          ]
        }
      ]
    },
    {
      "cell_type": "code",
      "source": [
        "predictions_test"
      ],
      "metadata": {
        "colab": {
          "base_uri": "https://localhost:8080/"
        },
        "id": "m9vZwxglbkuL",
        "outputId": "8b4b1ee0-ab73-4e6e-c23e-e5b39804ea06"
      },
      "execution_count": 30,
      "outputs": [
        {
          "output_type": "execute_result",
          "data": {
            "text/plain": [
              "array([144.93, 111.85, 184.33,  70.47, 203.55, 192.6 ,  76.99, 223.49,\n",
              "        94.1 , 104.86, 194.87, 195.39,  90.28, 187.97, 120.21, 102.98,\n",
              "       228.66, 152.52, 207.5 , 177.88,  79.93, 194.67, 194.5 , 254.97,\n",
              "       186.91, 224.91, 196.32, 203.86, 140.33, 138.72, 188.31, 137.65,\n",
              "        90.92,  78.39, 123.16, 142.08,  90.49, 208.16, 117.32, 107.08,\n",
              "        98.1 , 135.74, 177.37, 222.47])"
            ]
          },
          "metadata": {},
          "execution_count": 30
        }
      ]
    },
    {
      "cell_type": "code",
      "source": [
        "#no significance\n",
        "# Produce predictions for the test set\n",
        "prediction2 = icp.predict(data_data[idx_test, :])\n",
        "\n",
        "# Print the first 5 predictions\n",
        "#print(prediction2[:, :, 0])"
      ],
      "metadata": {
        "id": "_KoyHdd9f4OM"
      },
      "execution_count": 31,
      "outputs": []
    },
    {
      "cell_type": "code",
      "source": [
        "#apply abs err inverse for each significance[i]\n",
        "significance_nondefined = np.arange(0, 1, 0.01)\n",
        "intervals_none = np.zeros((idx_test.size, 2, (significance_nondefined.size)))\n",
        "for i, j in enumerate(significance_nondefined):\n",
        "\n",
        "  borders = abs_err_inv(cal_scores, j,sign_is_nondef = False)\n",
        "  intervals_none[:, 0, i] = predictions_test - borders\n",
        "  intervals_none[:, 1, i] = predictions_test + borders\n",
        "\n",
        "print(np.sum(prediction2[:,:,:] != intervals_none[:,:,:99]))\n",
        "print(np.max(np.abs(prediction2 - intervals_none[:,:,:99])))"
      ],
      "metadata": {
        "colab": {
          "base_uri": "https://localhost:8080/"
        },
        "id": "l9Pp208ogBPq",
        "outputId": "5a8aa130-7f99-4cf1-edb2-cf32f16807e0"
      },
      "execution_count": 33,
      "outputs": [
        {
          "output_type": "stream",
          "name": "stdout",
          "text": [
            "6072\n",
            "5.100000000000023\n"
          ]
        }
      ]
    },
    {
      "cell_type": "code",
      "source": [
        "significance_nondefined2 = np.arange(0.1, 1, 0.01)\n",
        "intervals_none2 = np.zeros((idx_test.size, 2, (significance_nondefined2.size)))\n",
        "norm = np.ones(int(idx_test.size))\n",
        "for i, j in enumerate(significance_nondefined2):\n",
        "\n",
        "  err_dist = abs_err_inv(cal_scores, j, sign_is_nondef = True)\n",
        "  err_dist = np.hstack([err_dist] * idx_test.size)\n",
        "  err_dist *= norm\n",
        "\n",
        "  intervals_none2[:, 0, i] = predictions_test - err_dist[0, :]\n",
        "  intervals_none2[:, 1, i] = predictions_test + err_dist[0, :]\n"
      ],
      "metadata": {
        "id": "a9fbQ_jBZrp9"
      },
      "execution_count": null,
      "outputs": []
    }
  ]
}