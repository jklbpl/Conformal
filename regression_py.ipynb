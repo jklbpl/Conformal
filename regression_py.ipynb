{
  "nbformat": 4,
  "nbformat_minor": 0,
  "metadata": {
    "colab": {
      "name": "regression.py",
      "provenance": [],
      "collapsed_sections": [],
      "authorship_tag": "ABX9TyMmSZx99/RZqJzH4iEXFoUT",
      "include_colab_link": true
    },
    "kernelspec": {
      "name": "python3",
      "display_name": "Python 3"
    },
    "language_info": {
      "name": "python"
    }
  },
  "cells": [
    {
      "cell_type": "markdown",
      "metadata": {
        "id": "view-in-github",
        "colab_type": "text"
      },
      "source": [
        "<a href=\"https://colab.research.google.com/github/jlkbpl/Conformal/blob/main/regression_py.ipynb\" target=\"_parent\"><img src=\"https://colab.research.google.com/assets/colab-badge.svg\" alt=\"Open In Colab\"/></a>"
      ]
    },
    {
      "cell_type": "markdown",
      "source": [
        "Regression example"
      ],
      "metadata": {
        "id": "degEcOWC3ev4"
      }
    },
    {
      "cell_type": "code",
      "execution_count": null,
      "metadata": {
        "id": "ASsZQZnK3GWn"
      },
      "outputs": [],
      "source": [
        "#!pip install nonconformist\n",
        "from nonconformist.nc import NcFactory, AbsErrorErrFunc, SignErrorErrFunc\n",
        "from sklearn.neighbors import KNeighborsRegressor\n",
        "from sklearn.ensemble import RandomForestRegressor\n",
        "from nonconformist.cp import IcpRegressor\n",
        "import numpy as np\n",
        "\n",
        "\n",
        "\n"
      ]
    },
    {
      "cell_type": "code",
      "source": [
        "from sklearn.datasets import load_boston\n",
        "\n",
        "nc_sign = NcFactory.create_nc(\n",
        "    KNeighborsRegressor(n_neighbors=11),\n",
        "    SignErrorErrFunc()\n",
        ")\n",
        "\n",
        "icp = IcpRegressor(nc_sign)\t\t\t# Create an inductive conformal regressor\n",
        "    \n",
        "boston = load_boston()\n",
        "idx = np.random.permutation(boston.target.size)\n",
        "idx_train, idx_cal, idx_test = idx[:300], idx[300:399], idx[399:]\n",
        "\n",
        "# Fit the ICP using the proper training set\n",
        "icp.fit(boston.data[idx_train, :], boston.target[idx_train])\n",
        "\n",
        "# Calibrate the ICP using the calibration set\n",
        "icp.calibrate(boston.data[idx_cal, :], boston.target[idx_cal])\n",
        "\n",
        "# Produce predictions for the test set, with confidence 95%\n",
        "prediction = icp.predict(boston.data[idx_test, :], significance=0.05)\n",
        "\n",
        "# Print the first 5 predictions\n",
        "print(prediction[:5, :])"
      ],
      "metadata": {
        "colab": {
          "base_uri": "https://localhost:8080/"
        },
        "id": "dgzANaOjTUZ1",
        "outputId": "d50a1488-e4cd-4176-c478-730792f3aabd"
      },
      "execution_count": null,
      "outputs": [
        {
          "output_type": "stream",
          "name": "stdout",
          "text": [
            "[[ 7.33636364 34.1       ]\n",
            " [ 5.02727273 31.79090909]\n",
            " [ 6.81818182 33.58181818]\n",
            " [ 8.54545455 35.30909091]\n",
            " [10.68181818 37.44545455]]\n"
          ]
        },
        {
          "output_type": "stream",
          "name": "stderr",
          "text": [
            "/usr/local/lib/python3.7/dist-packages/sklearn/utils/deprecation.py:87: FutureWarning: Function load_boston is deprecated; `load_boston` is deprecated in 1.0 and will be removed in 1.2.\n",
            "\n",
            "    The Boston housing prices dataset has an ethical problem. You can refer to\n",
            "    the documentation of this function for further details.\n",
            "\n",
            "    The scikit-learn maintainers therefore strongly discourage the use of this\n",
            "    dataset unless the purpose of the code is to study and educate about\n",
            "    ethical issues in data science and machine learning.\n",
            "\n",
            "    In this special case, you can fetch the dataset from the original\n",
            "    source::\n",
            "\n",
            "        import pandas as pd\n",
            "        import numpy as np\n",
            "\n",
            "\n",
            "        data_url = \"http://lib.stat.cmu.edu/datasets/boston\"\n",
            "        raw_df = pd.read_csv(data_url, sep=\"\\s+\", skiprows=22, header=None)\n",
            "        data = np.hstack([raw_df.values[::2, :], raw_df.values[1::2, :2]])\n",
            "        target = raw_df.values[1::2, 2]\n",
            "\n",
            "    Alternative datasets include the California housing dataset (i.e.\n",
            "    :func:`~sklearn.datasets.fetch_california_housing`) and the Ames housing\n",
            "    dataset. You can load the datasets as follows::\n",
            "\n",
            "        from sklearn.datasets import fetch_california_housing\n",
            "        housing = fetch_california_housing()\n",
            "\n",
            "    for the California housing dataset and::\n",
            "\n",
            "        from sklearn.datasets import fetch_openml\n",
            "        housing = fetch_openml(name=\"house_prices\", as_frame=True)\n",
            "\n",
            "    for the Ames housing dataset.\n",
            "    \n",
            "  warnings.warn(msg, category=FutureWarning)\n"
          ]
        }
      ]
    }
  ]
}