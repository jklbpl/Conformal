{
  "nbformat": 4,
  "nbformat_minor": 0,
  "metadata": {
    "colab": {
      "name": "regression_sign+abs_signif_worksshitty.ipynb",
      "provenance": [],
      "collapsed_sections": [],
      "authorship_tag": "ABX9TyNynaEy7qA8fRyFRxxlfGXQ",
      "include_colab_link": true
    },
    "kernelspec": {
      "name": "python3",
      "display_name": "Python 3"
    },
    "language_info": {
      "name": "python"
    }
  },
  "cells": [
    {
      "cell_type": "markdown",
      "metadata": {
        "id": "view-in-github",
        "colab_type": "text"
      },
      "source": [
        "<a href=\"https://colab.research.google.com/github/jklbpl/Conformal/blob/drafts/regression_sign%2Babs_signif_worksshitty.ipynb\" target=\"_parent\"><img src=\"https://colab.research.google.com/assets/colab-badge.svg\" alt=\"Open In Colab\"/></a>"
      ]
    },
    {
      "cell_type": "code",
      "source": [
        "!pip install nonconformist"
      ],
      "metadata": {
        "colab": {
          "base_uri": "https://localhost:8080/"
        },
        "id": "u3XRE0lZZMny",
        "outputId": "8d54447b-566a-4523-cd5f-2e0acf8b3d33"
      },
      "execution_count": 39,
      "outputs": [
        {
          "output_type": "stream",
          "name": "stdout",
          "text": [
            "Looking in indexes: https://pypi.org/simple, https://us-python.pkg.dev/colab-wheels/public/simple/\n",
            "Requirement already satisfied: nonconformist in /usr/local/lib/python3.7/dist-packages (2.1.0)\n",
            "Requirement already satisfied: numpy in /usr/local/lib/python3.7/dist-packages (from nonconformist) (1.21.6)\n",
            "Requirement already satisfied: scikit-learn in /usr/local/lib/python3.7/dist-packages (from nonconformist) (1.0.2)\n",
            "Requirement already satisfied: pandas in /usr/local/lib/python3.7/dist-packages (from nonconformist) (1.3.5)\n",
            "Requirement already satisfied: scipy in /usr/local/lib/python3.7/dist-packages (from nonconformist) (1.7.3)\n",
            "Requirement already satisfied: python-dateutil>=2.7.3 in /usr/local/lib/python3.7/dist-packages (from pandas->nonconformist) (2.8.2)\n",
            "Requirement already satisfied: pytz>=2017.3 in /usr/local/lib/python3.7/dist-packages (from pandas->nonconformist) (2022.1)\n",
            "Requirement already satisfied: six>=1.5 in /usr/local/lib/python3.7/dist-packages (from python-dateutil>=2.7.3->pandas->nonconformist) (1.15.0)\n",
            "Requirement already satisfied: joblib>=0.11 in /usr/local/lib/python3.7/dist-packages (from scikit-learn->nonconformist) (1.1.0)\n",
            "Requirement already satisfied: threadpoolctl>=2.0.0 in /usr/local/lib/python3.7/dist-packages (from scikit-learn->nonconformist) (3.1.0)\n"
          ]
        }
      ]
    },
    {
      "cell_type": "code",
      "source": [
        "import matplotlib.pyplot as plt"
      ],
      "metadata": {
        "id": "bgfrqhHWgfW2"
      },
      "execution_count": 40,
      "outputs": []
    },
    {
      "cell_type": "code",
      "source": [
        "import numpy as np\n",
        "import pandas as pd\n",
        "from sklearn.datasets import fetch_california_housing\n",
        "from sklearn.datasets import load_diabetes\n",
        "from nonconformist.nc import SignErrorErrFunc, AbsErrorErrFunc\n",
        "from sklearn.ensemble import RandomForestRegressor\n",
        "from nonconformist.cp import IcpRegressor\n",
        "from nonconformist.nc import NcFactory"
      ],
      "metadata": {
        "id": "eXCTsKZ6VGve"
      },
      "execution_count": 41,
      "outputs": []
    },
    {
      "cell_type": "markdown",
      "source": [
        "# Splitting our dataset."
      ],
      "metadata": {
        "id": "dyrfbmWuHcgE"
      }
    },
    {
      "cell_type": "code",
      "execution_count": 42,
      "metadata": {
        "id": "ce0JvodDhv6q",
        "colab": {
          "base_uri": "https://localhost:8080/"
        },
        "outputId": "13f3f3d2-0d33-466c-8896-17ea598699d1"
      },
      "outputs": [
        {
          "output_type": "stream",
          "name": "stdout",
          "text": [
            "Test size: 44\n",
            "Calibration size: 79\n",
            "Train size: 319\n"
          ]
        }
      ],
      "source": [
        "#data_data, data_target = fetch_california_housing(return_X_y= True)\n",
        "data_data, data_target = load_diabetes(return_X_y= True)\n",
        "df_features = pd.DataFrame(data_data)\n",
        "df_target = pd.DataFrame(data_target)\n",
        "idx_size = df_target.size\n",
        "\n",
        "np.random.seed(2)\n",
        "\n",
        "idx = np.random.permutation(len(data_data))\n",
        "\n",
        "# test = 10%, test(test+calib) = 90% (80%+20%)\n",
        "test_size = int(idx_size  * 0.1)\n",
        "train_size = idx_size  - test_size\n",
        "calib_size = int(train_size * 0.2)\n",
        "train_size = train_size - calib_size\n",
        "\n",
        "idx_train, idx_cal, idx_test = idx[:train_size], idx[train_size:train_size + calib_size], idx[train_size + calib_size:]\n",
        "\n",
        "\n",
        "print('Test size: {}'.format(test_size))\n",
        "print('Calibration size: {}'.format(calib_size))\n",
        "print('Train size: {}'.format(train_size))\n"
      ]
    },
    {
      "cell_type": "markdown",
      "source": [
        "# Let's create predictions, using non-conformist library"
      ],
      "metadata": {
        "id": "i0ImO2DcHlno"
      }
    },
    {
      "cell_type": "code",
      "source": [
        "significance = 0.05"
      ],
      "metadata": {
        "id": "9BTa0rPYwRLo"
      },
      "execution_count": 43,
      "outputs": []
    },
    {
      "cell_type": "code",
      "source": [
        "model = RandomForestRegressor()\t# Create the underlying model\n",
        "nc_abs = NcFactory.create_nc(model,err_func = AbsErrorErrFunc())\t# Create a default nonconformity function\n",
        "icp_abs = IcpRegressor(nc_abs)\t\t\t# Create an inductive conformal regressor\n",
        "\n",
        "# Fit the ICP using the proper training set\n",
        "icp_abs.fit(data_data[idx_train, :], data_target[idx_train])\n",
        "\n",
        "# Calibrate the ICP using the calibration set\n",
        "icp_abs.calibrate(data_data[idx_cal, :], data_target[idx_cal])\n",
        "\n",
        "# Produce predictions for the test set, with confidence 95%\n",
        "prediction_abs = icp_abs.predict(data_data[idx_test, :], significance=significance)\n",
        "\n",
        "# Print the first 5 predictions\n",
        "print(prediction_abs[:5, :])"
      ],
      "metadata": {
        "colab": {
          "base_uri": "https://localhost:8080/"
        },
        "id": "JUCUFTY9VPMB",
        "outputId": "e6a27959-0c4a-470e-c5ce-92d556b507ae"
      },
      "execution_count": 44,
      "outputs": [
        {
          "output_type": "stream",
          "name": "stdout",
          "text": [
            "[[ 41.73 248.13]\n",
            " [  8.65 215.05]\n",
            " [ 81.13 287.53]\n",
            " [-32.73 173.67]\n",
            " [100.35 306.75]]\n"
          ]
        }
      ]
    },
    {
      "cell_type": "markdown",
      "source": [
        "# Now, let's display same predictions (or very very close ones) by using conformal predictor from scratch. "
      ],
      "metadata": {
        "id": "2vys1y8AH1R7"
      }
    },
    {
      "cell_type": "code",
      "source": [
        "predictions_cal = model.predict(data_data[idx_cal,:])\n",
        "predictions_test = model.predict(data_data[idx_test,:])"
      ],
      "metadata": {
        "id": "93tIkGkVVR2_"
      },
      "execution_count": 45,
      "outputs": []
    },
    {
      "cell_type": "markdown",
      "source": [
        "**To generate calibration dataset we will use functions *sign_error* or *abs_error*.**"
      ],
      "metadata": {
        "id": "zT4hxT1hIhQf"
      }
    },
    {
      "cell_type": "code",
      "source": [
        "def sign_error(prediction_set, y):\n",
        "  return (prediction_set - y)\n",
        "\n",
        "def abs_error(prediction_set, y):\n",
        "  return np.abs(prediction_set - y)"
      ],
      "metadata": {
        "id": "PrAvaNBiVVRz"
      },
      "execution_count": 46,
      "outputs": []
    },
    {
      "cell_type": "code",
      "source": [
        "cal_scores_abs = abs_error(predictions_cal, data_target[idx_cal])"
      ],
      "metadata": {
        "id": "aMG6JrlcJWF2"
      },
      "execution_count": 47,
      "outputs": []
    },
    {
      "cell_type": "code",
      "source": [
        "def abs_error_inv(cal_score, significance):\n",
        "  cal_scores_sorted =  np.sort(cal_score)[::-1]\n",
        "  quantile_significance = np.quantile(cal_scores_sorted, 1-significance) \n",
        "  cal_scores_sorted_bool = cal_scores_sorted >= quantile_significance\n",
        "  for i in range(len(cal_scores_sorted)):\n",
        "    if cal_scores_sorted_bool[i]:\n",
        "      number = i\n",
        "\n",
        "  return cal_scores_sorted[number]\n",
        "\n",
        "def sign_error_inv(cal_score, significance):\n",
        "  cal_scores_sorted = np.sort(cal_score)[::-1]\n",
        "  quantile_significance_up = np.quantile(cal_scores_sorted, significance/2)\n",
        "  quantile_significance_low = np.quantile(cal_scores_sorted, 1-significance/2)\n",
        "\n",
        "  cal_scores_sorted_bool_up = cal_scores_sorted <= quantile_significance_up\n",
        "  for i in range(len(cal_scores_sorted)):\n",
        "    if cal_scores_sorted_bool_up[i]:\n",
        "      number_up = i\n",
        "\n",
        "  cal_scores_sorted_bool_low = cal_scores_sorted <= (quantile_significance_low)\n",
        "  for j in range(0,len(cal_scores_sorted)):\n",
        "    if cal_scores_sorted_bool_low[j]:\n",
        "      number_low = j\n",
        "      return number_low, number_up\n"
      ],
      "metadata": {
        "id": "gyMr3lzlIqBx"
      },
      "execution_count": 48,
      "outputs": []
    },
    {
      "cell_type": "code",
      "source": [
        "border_abs = abs_error_inv(cal_scores_abs, significance)\n",
        "intervals_abs = np.zeros((idx_test.size, 2))\n",
        "intervals_abs[:, 0] = predictions_test - border_abs\n",
        "intervals_abs[:, 1] = predictions_test + border_abs\n",
        "\n",
        "print(np.sum(intervals_abs != prediction_abs))"
      ],
      "metadata": {
        "colab": {
          "base_uri": "https://localhost:8080/"
        },
        "id": "mVylGXDgKeyX",
        "outputId": "fb2118fa-f048-4a4d-fcd9-90e3f89c4ae4"
      },
      "execution_count": 49,
      "outputs": [
        {
          "output_type": "stream",
          "name": "stdout",
          "text": [
            "0\n"
          ]
        }
      ]
    },
    {
      "cell_type": "code",
      "source": [
        "cal_scores_sorted = np.sort(cal_scores_sign)[::-1]\n",
        "\n",
        "quantile_significance_up = np.quantile(cal_scores_sorted, significance/2)\n",
        "quantile_significance_low = np.quantile(cal_scores_sorted, 1-significance/2)\n",
        "\n",
        "cal_scores_sorted_bool_up = cal_scores_sorted <= quantile_significance_up\n",
        "for i in range(len(cal_scores_sorted)):\n",
        "  if cal_scores_sorted_bool_up[i]:\n",
        "    number_upp = i\n",
        "\n",
        "cal_scores_sorted_bool_low = cal_scores_sorted <= (quantile_significance_low)\n",
        "for i in range(0,len(cal_scores_sorted)):\n",
        "  if cal_scores_sorted_bool_low[i]:\n",
        "    number_loww = i\n",
        "    break\n",
        "\n",
        "print(\"num_low: {} \\n num_up: {}\".format(number_loww,number_upp))\n",
        "print(\"cal_low: {} \\n cal_up: {}\".format(cal_scores_sorted[number_loww],-cal_scores_sorted[number_upp]))"
      ],
      "metadata": {
        "colab": {
          "base_uri": "https://localhost:8080/"
        },
        "id": "Tjd48i0vbuyE",
        "outputId": "fcf120b4-5258-4ee1-fa4b-f500a89d800f"
      },
      "execution_count": 51,
      "outputs": [
        {
          "output_type": "stream",
          "name": "stdout",
          "text": [
            "num_low: 2 \n",
            " num_up: 78\n",
            "cal_low: 103.62 \n",
            " cal_up: 96.61\n"
          ]
        }
      ]
    },
    {
      "cell_type": "code",
      "source": [
        "model = RandomForestRegressor()\t# Create the underlying model\n",
        "nc_sign = NcFactory.create_nc(model,err_func = SignErrorErrFunc())\t# Create a default nonconformity function\n",
        "icp_sign = IcpRegressor(nc_sign)\t\t\t# Create an inductive conformal regressor\n",
        "\n",
        "# Fit the ICP using the proper training set\n",
        "icp_sign.fit(data_data[idx_train, :], data_target[idx_train])\n",
        "\n",
        "# Calibrate the ICP using the calibration set\n",
        "icp_sign.calibrate(data_data[idx_cal, :], data_target[idx_cal])\n",
        "\n",
        "# Produce predictions for the test set, with confidence 95%\n",
        "prediction_sign = icp_sign.predict(data_data[idx_test, :], significance=significance)\n",
        "\n",
        "# Print the first 5 predictions\n",
        "print(prediction_sign[:5, :])"
      ],
      "metadata": {
        "colab": {
          "base_uri": "https://localhost:8080/"
        },
        "id": "hTAF2dKCLPZ9",
        "outputId": "a76361fa-ef56-4c65-c042-f0830be3f96a"
      },
      "execution_count": 52,
      "outputs": [
        {
          "output_type": "stream",
          "name": "stdout",
          "text": [
            "[[ 44.69 244.92]\n",
            " [ 21.7  221.93]\n",
            " [ 85.48 285.71]\n",
            " [-26.53 173.7 ]\n",
            " [ 95.84 296.07]]\n"
          ]
        }
      ]
    },
    {
      "cell_type": "code",
      "source": [
        "cal_scores_sign = sign_error(predictions_cal, data_target[idx_cal])\n",
        "predictions_cal = model.predict(data_data[idx_cal,:])\n",
        "predictions_test = model.predict(data_data[idx_test,:])"
      ],
      "metadata": {
        "id": "n-1LfdSnb0IJ"
      },
      "execution_count": 53,
      "outputs": []
    },
    {
      "cell_type": "code",
      "source": [
        "intervals_sign = np.zeros((idx_test.size, 2))\n",
        "cal_scores_sign_sorted = np.sort(cal_scores_sign)[::-1]\n",
        "border_low, border_up = sign_error_inv(cal_scores_sign, significance)\n",
        "intervals_sign[:, 0] = predictions_test - (-cal_scores_sign_sorted[border_up])\n",
        "intervals_sign[:, 1] = predictions_test + cal_scores_sign_sorted[border_low]\n",
        "\n",
        "print(np.sum(intervals_sign != prediction_sign))\n",
        "intervals_sign"
      ],
      "metadata": {
        "id": "VgINCw6Tt0wK"
      },
      "execution_count": null,
      "outputs": []
    },
    {
      "cell_type": "code",
      "source": [
        "plt.plot(np.sort(predictions_test))\n",
        "plt.twinx()\n",
        "plt.plot(np.sort(intervals_sign[:,1]), color='r', linestyle='-')\n",
        "plt.plot(np.sort(prediction_sign[:,1]), color='r', linestyle='-')\n",
        "plt.ylabel('cal_scores_sorted')\n",
        "plt.title('Distribution of calibrated values')"
      ],
      "metadata": {
        "colab": {
          "base_uri": "https://localhost:8080/",
          "height": 298
        },
        "id": "VXbOtz6imSOr",
        "outputId": "eb469028-ac63-49c5-bd73-540fe6fab658"
      },
      "execution_count": 56,
      "outputs": [
        {
          "output_type": "execute_result",
          "data": {
            "text/plain": [
              "Text(0.5, 1.0, 'Distribution of calibrated values')"
            ]
          },
          "metadata": {},
          "execution_count": 56
        },
        {
          "output_type": "display_data",
          "data": {
            "text/plain": [
              "<Figure size 432x288 with 2 Axes>"
            ],
            "image/png": "[encoded data removed]"
          },
          "metadata": {
            "needs_background": "light"
          }
        }
      ]
    },
    {
      "cell_type": "code",
      "source": [
        "plt.plot(np.sort(cal_scores_sorted))\n",
        "#plt.grid(True)\n",
        "plt.axhline(y=quantile_significance_low, color='r', linestyle='-')\n",
        "plt.axhline(y=quantile_significance_up, color='g', linestyle='-')\n",
        "plt.ylabel('cal_scores_sorted')\n",
        "plt.title('Distribution of calibrated values')"
      ],
      "metadata": {
        "colab": {
          "base_uri": "https://localhost:8080/",
          "height": 298
        },
        "id": "hybC0clFhjeB",
        "outputId": "b7a5e935-81c0-4617-f371-be15aaeb5889"
      },
      "execution_count": 57,
      "outputs": [
        {
          "output_type": "execute_result",
          "data": {
            "text/plain": [
              "Text(0.5, 1.0, 'Distribution of calibrated values')"
            ]
          },
          "metadata": {},
          "execution_count": 57
        },
        {
          "output_type": "display_data",
          "data": {
            "text/plain": [
              "<Figure size 432x288 with 1 Axes>"
            ],
            "image/png": "[encoded data removed]"
          },
          "metadata": {
            "needs_background": "light"
          }
        }
      ]
    }
  ]
}