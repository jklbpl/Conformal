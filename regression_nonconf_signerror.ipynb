{
  "nbformat": 4,
  "nbformat_minor": 0,
  "metadata": {
    "colab": {
      "name": "regression_nonconf_signerror.ipynb",
      "provenance": [],
      "collapsed_sections": [],
      "authorship_tag": "ABX9TyPUjEDPfmXPheP5eyzNvrcd",
      "include_colab_link": true
    },
    "kernelspec": {
      "name": "python3",
      "display_name": "Python 3"
    },
    "language_info": {
      "name": "python"
    }
  },
  "cells": [
    {
      "cell_type": "markdown",
      "metadata": {
        "id": "view-in-github",
        "colab_type": "text"
      },
      "source": [
        "<a href=\"https://colab.research.google.com/github/jklbpl/Conformal/blob/main/regression_nonconf_signerror.ipynb\" target=\"_parent\"><img src=\"https://colab.research.google.com/assets/colab-badge.svg\" alt=\"Open In Colab\"/></a>"
      ]
    },
    {
      "cell_type": "code",
      "execution_count": 3,
      "metadata": {
        "colab": {
          "base_uri": "https://localhost:8080/"
        },
        "id": "-bERZd0IaTjP",
        "outputId": "c915f0c2-2508-4f26-fbd0-aa750b323a81"
      },
      "outputs": [
        {
          "output_type": "stream",
          "name": "stdout",
          "text": [
            "Looking in indexes: https://pypi.org/simple, https://us-python.pkg.dev/colab-wheels/public/simple/\n",
            "Collecting nonconformist\n",
            "  Downloading nonconformist-2.1.0.tar.gz (12 kB)\n",
            "Requirement already satisfied: numpy in /usr/local/lib/python3.7/dist-packages (from nonconformist) (1.21.6)\n",
            "Requirement already satisfied: scikit-learn in /usr/local/lib/python3.7/dist-packages (from nonconformist) (1.0.2)\n",
            "Requirement already satisfied: scipy in /usr/local/lib/python3.7/dist-packages (from nonconformist) (1.7.3)\n",
            "Requirement already satisfied: pandas in /usr/local/lib/python3.7/dist-packages (from nonconformist) (1.3.5)\n",
            "Requirement already satisfied: pytz>=2017.3 in /usr/local/lib/python3.7/dist-packages (from pandas->nonconformist) (2022.1)\n",
            "Requirement already satisfied: python-dateutil>=2.7.3 in /usr/local/lib/python3.7/dist-packages (from pandas->nonconformist) (2.8.2)\n",
            "Requirement already satisfied: six>=1.5 in /usr/local/lib/python3.7/dist-packages (from python-dateutil>=2.7.3->pandas->nonconformist) (1.15.0)\n",
            "Requirement already satisfied: threadpoolctl>=2.0.0 in /usr/local/lib/python3.7/dist-packages (from scikit-learn->nonconformist) (3.1.0)\n",
            "Requirement already satisfied: joblib>=0.11 in /usr/local/lib/python3.7/dist-packages (from scikit-learn->nonconformist) (1.1.0)\n",
            "Building wheels for collected packages: nonconformist\n",
            "  Building wheel for nonconformist (setup.py) ... \u001b[?25l\u001b[?25hdone\n",
            "  Created wheel for nonconformist: filename=nonconformist-2.1.0-py3-none-any.whl size=17840 sha256=45c97767ad1fa27a8aaaba7e3790c3298378ed26774bab5edf873a531b1c599a\n",
            "  Stored in directory: /root/.cache/pip/wheels/87/01/fa/9e7ef08e0d6dbdab8e37671b66f4b81e6c41423f9084249675\n",
            "Successfully built nonconformist\n",
            "Installing collected packages: nonconformist\n",
            "Successfully installed nonconformist-2.1.0\n"
          ]
        }
      ],
      "source": [
        "!pip install nonconformist"
      ]
    },
    {
      "cell_type": "code",
      "source": [
        "import matplotlib.pyplot as plt\n",
        "import numpy as np\n",
        "import pandas as pd\n",
        "from sklearn.datasets import fetch_california_housing\n",
        "from sklearn.datasets import load_diabetes\n",
        "from nonconformist.nc import SignErrorErrFunc, AbsErrorErrFunc\n",
        "from sklearn.ensemble import RandomForestRegressor\n",
        "from nonconformist.cp import IcpRegressor\n",
        "from nonconformist.nc import NcFactory"
      ],
      "metadata": {
        "id": "86xuU_R4aUl_"
      },
      "execution_count": 5,
      "outputs": []
    },
    {
      "cell_type": "code",
      "source": [
        "#data_data, data_target = fetch_california_housing(return_X_y= True)\n",
        "data_data, data_target = load_diabetes(return_X_y= True)\n",
        "df_features = pd.DataFrame(data_data)\n",
        "df_target = pd.DataFrame(data_target)\n",
        "idx_size = df_target.size\n",
        "\n",
        "np.random.seed(2)\n",
        "\n",
        "idx = np.random.permutation(len(data_data))\n",
        "\n",
        "# test = 10%, test(test+calib) = 90% (80%+20%)\n",
        "test_size = int(idx_size  * 0.1)\n",
        "train_size = idx_size  - test_size\n",
        "calib_size = int(train_size * 0.2)\n",
        "train_size = train_size - calib_size\n",
        "\n",
        "idx_train, idx_cal, idx_test = idx[:train_size], idx[train_size:train_size + calib_size], idx[train_size + calib_size:]\n",
        "\n",
        "\n",
        "print('Test size: {}'.format(test_size))\n",
        "print('Calibration size: {}'.format(calib_size))\n",
        "print('Train size: {}'.format(train_size))\n"
      ],
      "metadata": {
        "colab": {
          "base_uri": "https://localhost:8080/"
        },
        "id": "LjyVF8gWaYjZ",
        "outputId": "3e46ef41-557a-45c0-8d5f-84da1774678d"
      },
      "execution_count": 6,
      "outputs": [
        {
          "output_type": "stream",
          "name": "stdout",
          "text": [
            "Test size: 44\n",
            "Calibration size: 79\n",
            "Train size: 319\n"
          ]
        }
      ]
    },
    {
      "cell_type": "code",
      "source": [
        "significance = 0.05"
      ],
      "metadata": {
        "id": "6Da5dk3NaaoR"
      },
      "execution_count": 7,
      "outputs": []
    },
    {
      "cell_type": "code",
      "source": [
        "model = RandomForestRegressor()\t# Create the underlying model\n",
        "\n",
        "nc_sign = NcFactory.create_nc(model,err_func = SignErrorErrFunc())\t# Create a default nonconformity function\n",
        "icp_sign = IcpRegressor(nc_sign)\t\t\t# Create an inductive conformal regressor\n",
        "\n",
        "# Fit the ICP using the proper training set\n",
        "icp_sign.fit(data_data[idx_train, :], data_target[idx_train])\n",
        "\n",
        "# Calibrate the ICP using the calibration set\n",
        "icp_sign.calibrate(data_data[idx_cal, :], data_target[idx_cal])\n",
        "\n",
        "# Produce predictions for the test set, with confidence 95%\n",
        "prediction_sign = icp_sign.predict(data_data[idx_test, :], significance=0.05)\n",
        "\n",
        "# Print the first 5 predictions\n",
        "print(prediction_sign[:5, :])"
      ],
      "metadata": {
        "colab": {
          "base_uri": "https://localhost:8080/"
        },
        "id": "uu5SzppEabCd",
        "outputId": "5c9b569c-db4a-499d-9d24-e9c28c07bf7b"
      },
      "execution_count": 8,
      "outputs": [
        {
          "output_type": "stream",
          "name": "stdout",
          "text": [
            "[[ 49.04 255.71]\n",
            " [ 15.96 222.63]\n",
            " [ 88.44 295.11]\n",
            " [-25.42 181.25]\n",
            " [107.66 314.33]]\n"
          ]
        }
      ]
    },
    {
      "cell_type": "code",
      "source": [
        "predictions_cal = model.predict(data_data[idx_cal,:])\n",
        "predictions_test = model.predict(data_data[idx_test,:])"
      ],
      "metadata": {
        "id": "LJcxoJuuagLO"
      },
      "execution_count": 9,
      "outputs": []
    },
    {
      "cell_type": "code",
      "source": [
        "def sign_error(prediction_set, y):\n",
        "  return (prediction_set - y)\n",
        "  \n",
        "def sign_error_inv(cal_score, significance, sign_is_nondef):\n",
        "  if sign_is_nondef is False:\n",
        "    cal_scores_sorted = np.sort(cal_score)[::-1]\n",
        "    quantile_significance_up = np.quantile(cal_scores_sorted, significance/2)\n",
        "    quantile_significance_low = np.quantile(cal_scores_sorted, 1-significance/2)\n",
        "\n",
        "    cal_scores_sorted_bool_up = cal_scores_sorted <= quantile_significance_up\n",
        "    for i in range(len(cal_scores_sorted)):\n",
        "      if cal_scores_sorted_bool_up[i]:\n",
        "        number_up = i\n",
        "\n",
        "    cal_scores_sorted_bool_low = cal_scores_sorted <= (quantile_significance_low)\n",
        "    for j in range(0,len(cal_scores_sorted)):\n",
        "      if cal_scores_sorted_bool_low[j]:\n",
        "        number_low = j\n",
        "        return cal_scores_sorted[number_low],-cal_scores_sorted[number_up]\n",
        "  \n",
        "  if sign_is_nondef is True:\n",
        "    nc = np.sort(cal_score)[::-1]\n",
        "    upper = int(np.floor((significance / 2) * (nc.size + 1)))\n",
        "    lower = int(np.floor((1 - significance / 2) * (nc.size + 1)))\n",
        "    upper = min(max(upper, 0), nc.size - 1)\n",
        "    lower = max(min(lower, nc.size - 1), 0)\n",
        "    return np.vstack([-nc[lower], nc[upper]])"
      ],
      "metadata": {
        "id": "QAZSYSqrahlN"
      },
      "execution_count": 10,
      "outputs": []
    },
    {
      "cell_type": "code",
      "source": [
        "cal_scores_sign = sign_error(predictions_cal, data_target[idx_cal])\n",
        "\n",
        "intervals_sign = np.zeros((idx_test.size, 2))\n",
        "cal_scores_sign_sorted = np.sort(cal_scores_sign)[::-1]\n",
        "border_low, border_up = sign_error_inv(cal_scores_sign, significance, sign_is_nondef = False)\n",
        "intervals_sign[:, 0] = predictions_test - border_up\n",
        "intervals_sign[:, 1] = predictions_test + border_low\n",
        "\n",
        "print(np.sum(intervals_sign != prediction_sign))"
      ],
      "metadata": {
        "colab": {
          "base_uri": "https://localhost:8080/"
        },
        "id": "3FFUTU5Xam0H",
        "outputId": "6ef2e4e6-6361-4da2-c1ba-e8bf5952c46a"
      },
      "execution_count": 11,
      "outputs": [
        {
          "output_type": "stream",
          "name": "stdout",
          "text": [
            "0\n"
          ]
        }
      ]
    },
    {
      "cell_type": "code",
      "source": [
        "prediction_nondef = icp_sign.predict(data_data[idx_test, :])"
      ],
      "metadata": {
        "id": "cQJJ1dllvodA"
      },
      "execution_count": 13,
      "outputs": []
    },
    {
      "cell_type": "code",
      "source": [
        "significance_nondefined = np.arange(0, 1, 0.01)\n",
        "intervals_none = np.zeros((idx_test.size, 2, (significance_nondefined.size)))\n",
        "norm = np.ones(int(idx_test.size))\n",
        "for i, j in enumerate(significance_nondefined):\n",
        "\n",
        "  err_dist = sign_error_inv(cal_scores_sign, j, sign_is_nondef = True)\n",
        "  err_dist = np.hstack([err_dist] * idx_test.size)\n",
        "  err_dist *= norm\n",
        "\n",
        "  intervals_none[:, 0, i] = predictions_test - err_dist[0, :]\n",
        "  intervals_none[:, 1, i] = predictions_test + err_dist[0, :]\n",
        "\n",
        "\n",
        "  #border_low_nondefsign, border_up_nondefsign  = sign_error_inv(cal_scores_sign, j)\n",
        "  #intervals_none[:, 0, i] = predictions_test - border_up_nondefsign\n",
        "  #intervals_none[:, 1, i] = predictions_test + border_low_nondefsign\n",
        "  #print(\"lower border: {}, \\n upper_border: {}\\n\".format(border_low_nondefsign,border_up_nondefsign))\n",
        "\n",
        "print(np.sum(prediction_nondef[:,:,:] != intervals_none[:,:,:]))\n",
        "#print(np.max(np.abs(prediction_nondef - intervals_none[:,:,:99])))"
      ],
      "metadata": {
        "colab": {
          "base_uri": "https://localhost:8080/"
        },
        "id": "dvDQ2I3HvNMK",
        "outputId": "d84abf6b-fb22-4766-db4e-37b113e18901"
      },
      "execution_count": 14,
      "outputs": [
        {
          "output_type": "stream",
          "name": "stdout",
          "text": [
            "1\n"
          ]
        },
        {
          "output_type": "stream",
          "name": "stderr",
          "text": [
            "/usr/local/lib/python3.7/dist-packages/ipykernel_launcher.py:19: DeprecationWarning: elementwise comparison failed; this will raise an error in the future.\n"
          ]
        }
      ]
    },
    {
      "cell_type": "code",
      "source": [
        "plt.plot(np.sort(predictions_test))\n",
        "plt.twinx()\n",
        "plt.plot(np.sort(intervals_sign[:,1]), color='b', linestyle='-')\n",
        "plt.plot(np.sort(prediction_sign[:,1]), color='r', linestyle='-')\n",
        "plt.ylabel('Predictions')\n",
        "plt.title('Distribution of border values')"
      ],
      "metadata": {
        "colab": {
          "base_uri": "https://localhost:8080/",
          "height": 298
        },
        "id": "iH3Dv-_k4yCX",
        "outputId": "77ff9519-87f3-4ab6-bfb2-9a2ce61ef71a"
      },
      "execution_count": 15,
      "outputs": [
        {
          "output_type": "execute_result",
          "data": {
            "text/plain": [
              "Text(0.5, 1.0, 'Distribution of border values')"
            ]
          },
          "metadata": {},
          "execution_count": 15
        },
        {
          "output_type": "display_data",
          "data": {
            "text/plain": [
              "<Figure size 432x288 with 2 Axes>"
            ],
            "image/png": "[encoded data removed]"
          },
          "metadata": {
            "needs_background": "light"
          }
        }
      ]
    }
  ]
}